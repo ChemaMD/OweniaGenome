{
 "cells": [
  {
   "cell_type": "code",
   "execution_count": 2,
   "metadata": {},
   "outputs": [],
   "source": [
    "import csv\n",
    "from collections import defaultdict\n",
    "import scipy.stats as stats\n",
    "from statsmodels.stats.multitest import multipletests\n",
    "import pandas as pd"
   ]
  },
  {
   "cell_type": "code",
   "execution_count": 3,
   "metadata": {},
   "outputs": [
    {
     "name": "stdout",
     "output_type": "stream",
     "text": [
      "['Aque', 'Blan', 'Cele', 'Cgig', 'Chem', 'Ctel', 'Dgyr', 'Dmel', 'Drer', 'Eand', 'Hmia', 'Hrob', 'Hsap', 'Lana', 'Lgig', 'Lluy', 'Locu', 'Myes', 'Ngen', 'Nvec', 'Ofus', 'Paus', 'Skow', 'Smar', 'Smed', 'Spur', 'Tcas']\n"
     ]
    }
   ],
   "source": [
    "Fams,species={},[]\n",
    "for r in csv.reader(open('Orthogroups_JSD.tsv'),delimiter='\\t'):\n",
    "    if r[0]==\"Orthogroup\":\n",
    "        species=r[1:]\n",
    "        print(species)\n",
    "        continue\n",
    "    fid,glt=r[0],r[1:]\n",
    "    #print(fid,'>>>',glt)\n",
    "    gbs=defaultdict(list)\n",
    "    gbs={species[i]:gs.split(',') for i,gs in enumerate(glt)}\n",
    "    Fams[fid]=gbs\n",
    "    #break\n",
    "        #if i==5: break\n",
    "#species=list(set(species))\n"
   ]
  },
  {
   "cell_type": "code",
   "execution_count": 4,
   "metadata": {},
   "outputs": [
    {
     "name": "stdout",
     "output_type": "stream",
     "text": [
      "{'Aque': [''], 'Blan': [''], 'Cele': [''], 'Cgig': [''], 'Chem': [''], 'Ctel': [''], 'Dgyr': [''], 'Dmel': [''], 'Drer': [''], 'Eand': [''], 'Hmia': [''], 'Hrob': [''], 'Hsap': [''], 'Lana': [''], 'Lgig': [''], 'Lluy': [''], 'Locu': [''], 'Myes': [''], 'Ngen': [''], 'Nvec': [''], 'Ofus': [''], 'Paus': [''], 'Skow': [''], 'Smar': [''], 'Smed': [''], 'Spur': [''], 'Tcas': ['Tcas_TC034497_001', ' Tcas_TC035044_001']}\n"
     ]
    }
   ],
   "source": [
    "print(gbs)"
   ]
  },
  {
   "cell_type": "code",
   "execution_count": 5,
   "metadata": {},
   "outputs": [],
   "source": [
    "genefam=defaultdict(dict)\n",
    "for fid,gbs in Fams.items():\n",
    "    for sp in gbs:\n",
    "        for g in gbs[sp]:\n",
    "            #genefam[sp][g.split('.',1)[0]]=fid\n",
    "            genefam[sp][g]=fid\n",
    "    "
   ]
  },
  {
   "cell_type": "code",
   "execution_count": 6,
   "metadata": {},
   "outputs": [
    {
     "name": "stdout",
     "output_type": "stream",
     "text": [
      "dict_keys(['Aque', 'Blan', 'Cele', 'Cgig', 'Chem', 'Ctel', 'Dgyr', 'Dmel', 'Drer', 'Eand', 'Hmia', 'Hrob', 'Hsap', 'Lana', 'Lgig', 'Lluy', 'Locu', 'Myes', 'Ngen', 'Nvec', 'Ofus', 'Paus', 'Skow', 'Smar', 'Smed', 'Spur', 'Tcas'])\n"
     ]
    }
   ],
   "source": [
    "print(genefam.keys())"
   ]
  },
  {
   "cell_type": "code",
   "execution_count": 7,
   "metadata": {},
   "outputs": [
    {
     "name": "stderr",
     "output_type": "stream",
     "text": [
      "IOPub data rate exceeded.\n",
      "The notebook server will temporarily stop sending output\n",
      "to the client in order to avoid crashing it.\n",
      "To change this limit, set the config variable\n",
      "`--NotebookApp.iopub_data_rate_limit`.\n",
      "\n",
      "Current values:\n",
      "NotebookApp.iopub_data_rate_limit=1000000.0 (bytes/sec)\n",
      "NotebookApp.rate_limit_window=3.0 (secs)\n",
      "\n"
     ]
    }
   ],
   "source": [
    "print(list(genefam.items())[18:23])"
   ]
  },
  {
   "cell_type": "code",
   "execution_count": 8,
   "metadata": {},
   "outputs": [],
   "source": [
    "def gbm(mods):\n",
    "    gbms=defaultdict(list)\n",
    "    for g,m in mods.items():\n",
    "        gbms[m].append(g)\n",
    "    return(gbms)"
   ]
  },
  {
   "cell_type": "code",
   "execution_count": 9,
   "metadata": {},
   "outputs": [],
   "source": [
    "ctel_mods={r[0]:r[1] for r in csv.reader(open('03-Capitella_teleta_mfuzz_clusters_TFonly.txt'),delimiter='\\t')}"
   ]
  },
  {
   "cell_type": "code",
   "execution_count": 10,
   "metadata": {},
   "outputs": [],
   "source": [
    "ofus_mods={r[0]:r[1] for r in csv.reader(open('03-Owenia_fusiformis_mfuzz_clusters_TFonly.txt'),delimiter='\\t')}"
   ]
  },
  {
   "cell_type": "code",
   "execution_count": 11,
   "metadata": {},
   "outputs": [],
   "source": [
    "ctel_gbm=gbm(ctel_mods)\n",
    "ofus_gbm=gbm(ofus_mods)\n"
   ]
  },
  {
   "cell_type": "code",
   "execution_count": 12,
   "metadata": {},
   "outputs": [],
   "source": [
    "def comp(gl1,gl2,pairs):\n",
    "    p1={r[0]:r[1] for r in pairs}\n",
    "    p2={r[1]:r[0] for r in pairs}\n",
    "    rgl1=[g1 for g1 in gl1 if g1 in p1]\n",
    "    rgl2=[g2 for g2 in gl2 if g2 in p2]\n"
   ]
  },
  {
   "cell_type": "code",
   "execution_count": 13,
   "metadata": {},
   "outputs": [
    {
     "name": "stdout",
     "output_type": "stream",
     "text": [
      "54440\n"
     ]
    }
   ],
   "source": [
    "print(sum([1 for f,gbs in Fams.items() if 'Ctel' in gbs and 'Ofus' in gbs]))\n"
   ]
  },
  {
   "cell_type": "code",
   "execution_count": 14,
   "metadata": {},
   "outputs": [
    {
     "name": "stdout",
     "output_type": "stream",
     "text": [
      "[('2', ['CTELG00000000036.1', 'CTELG00000000229.1', 'CTELG00000000271.1', 'CTELG00000000343.1', 'CTELG00000000343.2', 'CTELG00000000445.1', 'CTELG00000000600.2', 'CTELG00000000785.1', 'CTELG00000001238.1', 'CTELG00000001274.1', 'CTELG00000001560.1', 'CTELG00000001874.1', 'CTELG00000001874.2', 'CTELG00000001946.1', 'CTELG00000002156.1', 'CTELG00000002286.1', 'CTELG00000002657.1', 'CTELG00000002657.2', 'CTELG00000003084.1', 'CTELG00000003085.1', 'CTELG00000003329.2', 'CTELG00000003343.1', 'CTELG00000003557.1', 'CTELG00000003621.3', 'CTELG00000003821.1', 'CTELG00000003821.2', 'CTELG00000003866.1', 'CTELG00000004199.1', 'CTELG00000004221.1', 'CTELG00000004342.1', 'CTELG00000004451.1', 'CTELG00000004627.1', 'CTELG00000004678.1', 'CTELG00000004755.1', 'CTELG00000004830.1', 'CTELG00000005324.1', 'CTELG00000005387.1', 'CTELG00000005423.1', 'CTELG00000005488.1', 'CTELG00000005631.1', 'CTELG00000005914.1', 'CTELG00000006018.1', 'CTELG00000006044.1', 'CTELG00000006282.1', 'CTELG00000006742.1', 'CTELG00000007009.1', 'CTELG00000007009.2', 'CTELG00000007198.1', 'CTELG00000007341.1', 'CTELG00000007349.1', 'CTELG00000007367.1', 'CTELG00000007392.1', 'CTELG00000007392.2', 'CTELG00000007436.1', 'CTELG00000007846.1', 'CTELG00000008338.1', 'CTELG00000008528.1', 'CTELG00000008796.1', 'CTELG00000008804.1', 'CTELG00000009060.1', 'CTELG00000009542.1', 'CTELG00000009718.1', 'CTELG00000009729.1', 'CTELG00000009995.2', 'CTELG00000010005.1', 'CTELG00000010350.1', 'CTELG00000010398.1', 'CTELG00000010809.1', 'CTELG00000010917.1', 'CTELG00000011205.1', 'CTELG00000011502.1', 'CTELG00000011892.1', 'CTELG00000011902.1', 'CTELG00000012182.1', 'CTELG00000012307.1', 'CTELG00000012455.1', 'CTELG00000012455.3', 'CTELG00000012669.1', 'CTELG00000012796.1', 'CTELG00000012954.1', 'CTELG00000012968.1', 'CTELG00000012995.1', 'CTELG00000013240.1', 'CTELG00000014111.1', 'CTELG00000014367.1', 'CTELG00000014541.2', 'CTELG00000015616.1', 'CTELG00000015616.2', 'CTELG00000015718.1', 'CTELG00000015946.1', 'CTELG00000016337.1', 'CTELG00000016756.1', 'CTELG00000017241.2', 'CTELG00000017281.1', 'CTELG00000017590.1', 'CTELG00000017995.1', 'CTELG00000018255.1', 'CTELG00000018441.1', 'CTELG00000018712.1', 'CTELG00000018794.1', 'CTELG00000018895.1', 'CTELG00000019159.1', 'CTELG00000019190.1', 'CTELG00000019376.1', 'CTELG00000019414.1', 'CTELG00000019442.1', 'CTELG00000019666.1', 'CTELG00000019699.1', 'CTELG00000020153.1', 'CTELG00000020382.2', 'CTELG00000020916.1', 'CTELG00000021101.1', 'CTELG00000021538.1', 'CTELG00000021538.2', 'CTELG00000021691.1', 'CTELG00000021704.2', 'CTELG00000021996.1', 'CTELG00000022010.1', 'CTELG00000022835.2', 'CTELG00000023056.1', 'CTELG00000023073.1', 'CTELG00000023478.1', 'CTELG00000024179.2', 'CTELG00000024402.1', 'CTELG00000024608.1', 'CTELG00000024876.1', 'CTELG00000024952.1', 'CTELG00000025123.1', 'CTELG00000025261.1', 'CTELG00000025578.1', 'CTELG00000025823.1', 'CTELG00000025823.3', 'CTELG00000025936.1', 'CTELG00000026378.1', 'CTELG00000026534.1', 'CTELG00000026687.1', 'CTELG00000026748.1', 'CTELG00000027060.1', 'CTELG00000027070.1', 'CTELG00000027155.1', 'CTELG00000027335.1', 'CTELG00000027336.1', 'CTELG00000028059.1', 'CTELG00000028301.1', 'CTELG00000030831.1', 'CTELG00000031010.1', 'CTELG00000031196.1', 'CTELG00000031400.1', 'CTELG00000031401.1', 'CTELG00000032033.1', 'CTELG00000033111.1', 'CTELG00000033496.1', 'CTELG00000033651.1', 'CTELG00000035170.1', 'CTELG00000035363.1', 'CTELG00000037422.1']), ('7', ['CTELG00000000096.1', 'CTELG00000000600.1', 'CTELG00000001676.3', 'CTELG00000001676.4', 'CTELG00000002303.2', 'CTELG00000002355.1', 'CTELG00000003426.1', 'CTELG00000003850.1', 'CTELG00000005262.1', 'CTELG00000005309.1', 'CTELG00000005495.1', 'CTELG00000005755.1', 'CTELG00000007314.1', 'CTELG00000009056.2', 'CTELG00000009056.3', 'CTELG00000010171.1', 'CTELG00000010217.1', 'CTELG00000010812.1', 'CTELG00000010913.1', 'CTELG00000011151.2', 'CTELG00000011704.1', 'CTELG00000011705.1', 'CTELG00000012455.2', 'CTELG00000012727.1', 'CTELG00000012730.1', 'CTELG00000013204.1', 'CTELG00000013272.1', 'CTELG00000013787.1', 'CTELG00000014493.1', 'CTELG00000014873.1', 'CTELG00000015130.1', 'CTELG00000015800.1', 'CTELG00000015893.1', 'CTELG00000016205.1', 'CTELG00000019439.1', 'CTELG00000019890.3', 'CTELG00000020129.1', 'CTELG00000020927.1', 'CTELG00000023479.2', 'CTELG00000023638.1', 'CTELG00000023717.1', 'CTELG00000023885.1', 'CTELG00000024409.1', 'CTELG00000026816.2', 'CTELG00000027101.1', 'CTELG00000027552.1', 'CTELG00000029736.1', 'CTELG00000029876.1', 'CTELG00000029973.1', 'CTELG00000033192.1', 'CTELG00000034355.1']), ('8', ['CTELG00000000194.1', 'CTELG00000000648.1', 'CTELG00000000660.1', 'CTELG00000000784.1', 'CTELG00000001135.1', 'CTELG00000001445.1', 'CTELG00000001633.1', 'CTELG00000002099.2', 'CTELG00000002273.1', 'CTELG00000002274.1', 'CTELG00000002742.2', 'CTELG00000003015.1', 'CTELG00000003065.1', 'CTELG00000003302.1', 'CTELG00000003487.1', 'CTELG00000003621.2', 'CTELG00000004135.1', 'CTELG00000005180.1', 'CTELG00000005249.1', 'CTELG00000005307.1', 'CTELG00000005701.1', 'CTELG00000005707.1', 'CTELG00000005919.1', 'CTELG00000006098.1', 'CTELG00000007118.1', 'CTELG00000007122.1', 'CTELG00000007918.1', 'CTELG00000008102.1', 'CTELG00000009523.2', 'CTELG00000009769.1', 'CTELG00000009913.1', 'CTELG00000010647.2', 'CTELG00000010906.1', 'CTELG00000011192.1', 'CTELG00000012552.1', 'CTELG00000012958.1', 'CTELG00000013592.1', 'CTELG00000014178.2', 'CTELG00000014278.1', 'CTELG00000015928.1', 'CTELG00000017582.1', 'CTELG00000017582.3', 'CTELG00000018014.1', 'CTELG00000018361.1', 'CTELG00000018362.1', 'CTELG00000018431.1', 'CTELG00000020665.1', 'CTELG00000022622.1', 'CTELG00000024325.1', 'CTELG00000024553.1', 'CTELG00000024609.1', 'CTELG00000025002.1', 'CTELG00000025481.1', 'CTELG00000025556.1', 'CTELG00000027320.1', 'CTELG00000027745.1', 'CTELG00000028301.4', 'CTELG00000028790.1', 'CTELG00000029307.1', 'CTELG00000030744.1', 'CTELG00000031636.1', 'CTELG00000031725.1', 'CTELG00000032625.1', 'CTELG00000032778.1', 'CTELG00000032862.1', 'CTELG00000034111.1', 'CTELG00000035910.1']), ('11', ['CTELG00000000305.1', 'CTELG00000000682.1', 'CTELG00000001221.1', 'CTELG00000001690.1', 'CTELG00000002088.1', 'CTELG00000002258.1', 'CTELG00000002640.1', 'CTELG00000002640.2', 'CTELG00000002716.1', 'CTELG00000004651.1', 'CTELG00000004720.1', 'CTELG00000004744.1', 'CTELG00000005107.1', 'CTELG00000005183.1', 'CTELG00000005255.1', 'CTELG00000005742.1', 'CTELG00000005807.1', 'CTELG00000005820.1', 'CTELG00000006820.1', 'CTELG00000006843.1', 'CTELG00000007376.1', 'CTELG00000008051.1', 'CTELG00000008075.1', 'CTELG00000008374.4', 'CTELG00000008776.1', 'CTELG00000009523.3', 'CTELG00000010022.1', 'CTELG00000010771.1', 'CTELG00000010848.3', 'CTELG00000010990.1', 'CTELG00000012925.1', 'CTELG00000013057.1', 'CTELG00000013663.1', 'CTELG00000013985.3', 'CTELG00000014335.1', 'CTELG00000015622.1', 'CTELG00000016138.1', 'CTELG00000016227.1', 'CTELG00000016334.1', 'CTELG00000016509.1', 'CTELG00000016744.1', 'CTELG00000016846.1', 'CTELG00000016865.1', 'CTELG00000017241.1', 'CTELG00000017436.1', 'CTELG00000017968.1', 'CTELG00000018490.1', 'CTELG00000019396.1', 'CTELG00000019767.1', 'CTELG00000020314.1', 'CTELG00000021728.1', 'CTELG00000022520.1', 'CTELG00000023938.1', 'CTELG00000025038.1', 'CTELG00000025116.1', 'CTELG00000025616.1', 'CTELG00000026816.1', 'CTELG00000027178.1', 'CTELG00000027179.1', 'CTELG00000027984.1', 'CTELG00000030378.1', 'CTELG00000032046.1', 'CTELG00000036431.1', 'CTELG00000036512.1'])]\n"
     ]
    }
   ],
   "source": [
    "print(list(ctel_gbm.items())[0:4])"
   ]
  },
  {
   "cell_type": "code",
   "execution_count": 15,
   "metadata": {},
   "outputs": [],
   "source": [
    "def ogcomp(gbm1,gbm2,genefam,nm1,nm2):\n",
    "    res=[]\n",
    "    nshog=sum([1 for f,gbs in Fams.items() if nm1 in gbs and nm2 in gbs])\n",
    "    for m1,gl1 in gbm1.items():\n",
    "        for m2,gl2 in gbm2.items():\n",
    "            #print('pliv{} <-> spur{}'.format(m1,m2))\n",
    "            rgl1=set([genefam[nm1][g1] for g1 in gl1 if g1 in genefam[nm1]])\n",
    "            rgl2=set([genefam[nm2][g2] for g2 in gl2 if g2 in genefam[nm2]])\n",
    "            gle=rgl1.union(rgl2)\n",
    "            gli=rgl1.intersection(rgl2)\n",
    "            # M : \n",
    "            hpd=stats.hypergeom(nshog, len(rgl1),len(rgl2))\n",
    "            print(nshog,len(rgl1),len(rgl2),len(gli),hpd.pmf(len(gli)))\n",
    "            rep=round(len(gli)/(len(rgl2)*len(rgl1)/nshog),3)\n",
    "            # (n * D) / N\n",
    "            #print(len(p1),len(rgl1),len(rgl2),len(gli),hpd.pmf(len(gli)),rep)\n",
    "            res.append(['{}{}'.format(nm1,m1),'{}{}'.format(nm2,m2),len(rgl1),len(rgl2),len(gli),hpd.pmf(len(gli)),rep])\n",
    "            phyper=pd.DataFrame(res, columns = ['cl1','cl2','no1','no2','nov','pv','rf'])  \n",
    "    return(phyper)"
   ]
  },
  {
   "cell_type": "code",
   "execution_count": 16,
   "metadata": {},
   "outputs": [],
   "source": [
    "def comp(gbm1,gbm2,pairs,nm1,nm2):\n",
    "    res=[]\n",
    "    for m1,gl1 in gbm1.items():\n",
    "        for m2,gl2 in gbm2.items():\n",
    "            #print('pliv{} <-> spur{}'.format(m1,m2))\n",
    "            p1={r[0]:r[1] for r in pairs}\n",
    "            p2={r[1]:r[0] for r in pairs}\n",
    "            rgl1=[g1 for g1 in gl1 if g1 in p1]\n",
    "            rgl2=[g2 for g2 in gl2 if g2 in p2]\n",
    "            gle=set([p2[g2] for g2 in gl2 if g2 in p2]+rgl1)\n",
    "            gli=[g1 for g1 in rgl1 for g2 in rgl2 if p1[g1]==g2]\n",
    "            hpd=stats.hypergeom(len(p1), len(rgl1),len(rgl2))\n",
    "            rep=round(len(gli)/(len(rgl2)*len(rgl1)/len(p1)),3)# (n * D) / N\n",
    "            #print(len(p1),len(rgl1),len(rgl2),len(gli),hpd.pmf(len(gli)),rep)\n",
    "            res.append(['{}{}'.format(nm1,m1),'{}{}'.format(nm2,m2),len(rgl1),len(rgl2),len(gli),hpd.pmf(len(gli)),rep])\n",
    "    phyper=pd.DataFrame(res, columns = ['cl1','cl2','no1','no2','nov','pv','rf'])  \n",
    "    return(phyper)"
   ]
  },
  {
   "cell_type": "code",
   "execution_count": 17,
   "metadata": {
    "scrolled": false
   },
   "outputs": [
    {
     "name": "stdout",
     "output_type": "stream",
     "text": [
      "54440 66 75 10 2.597923035000267e-18\n",
      "54440 66 62 8 9.585708149745685e-15\n",
      "54440 66 46 2 0.0014225968713520631\n",
      "54440 66 15 1 0.017883487876014275\n",
      "54440 66 17 3 1.1386082158595623e-06\n",
      "54440 66 12 1 0.014358171066759438\n",
      "54440 66 26 3 4.3083516721244174e-06\n",
      "54440 66 20 3 1.9022217108773232e-06\n",
      "54440 66 7 0 0.9915439316849107\n",
      "54440 66 41 5 1.6144908570040662e-09\n",
      "54440 66 2 1 0.0024217926598549882\n",
      "54440 66 29 6 1.16413609310412e-12\n",
      "54440 10 75 0 0.9863073353463927\n",
      "54440 10 62 1 0.01127433859139586\n",
      "54440 10 46 1 0.008387010740368676\n",
      "54440 10 15 0 0.9972478596305467\n",
      "54440 10 17 0 0.9968814231020843\n",
      "54440 10 12 0 0.9977977417251681\n",
      "54440 10 26 0 0.9952339578879468\n",
      "54440 10 20 0 0.9963319955222288\n",
      "54440 10 7 0 0.9987148183184287\n",
      "54440 10 41 1 0.007481566227413783\n",
      "54440 10 2 0 0.9996326534391357\n",
      "54440 10 29 1 0.00530235562666864\n",
      "54440 25 75 4 4.087982261584728e-08\n",
      "54440 25 62 3 3.158691614234124e-06\n",
      "54440 25 46 2 0.00020567662247659497\n",
      "54440 25 15 1 0.006845918971295251\n",
      "54440 25 17 0 0.9922207157127994\n",
      "54440 25 12 1 0.0054839865954452015\n",
      "54440 25 26 1 0.011808821221476988\n",
      "54440 25 20 0 0.9908539453998617\n",
      "54440 25 7 0 0.9967897003821135\n",
      "54440 25 41 5 9.862239908958637e-12\n",
      "54440 25 2 0 0.9990817601306081\n",
      "54440 25 29 2 8.126295209126937e-05\n",
      "54440 26 75 1 0.03462139565517515\n",
      "54440 26 62 3 3.5668233071651937e-06\n",
      "54440 26 46 1 0.021519517599424047\n",
      "54440 26 15 3 4.377266436509642e-08\n",
      "54440 26 17 1 0.008059571006984423\n",
      "54440 26 12 1 0.005702193127044838\n",
      "54440 26 26 3 2.489691062644319e-07\n",
      "54440 26 20 0 0.9904897612795277\n",
      "54440 26 7 0 0.9966614723585412\n",
      "54440 26 41 3 1.0143196333044596e-06\n",
      "54440 26 2 0 0.9990450393087711\n",
      "54440 26 29 1 0.01367307563355229\n",
      "54440 48 75 4 6.102001401797257e-07\n",
      "54440 48 62 9 2.831724191556478e-18\n",
      "54440 48 46 4 8.387066236459722e-08\n",
      "54440 48 15 0 0.9868540668400207\n",
      "54440 48 17 0 0.9851141112489256\n",
      "54440 48 12 0 0.9894696437999426\n",
      "54440 48 26 0 0.9773214120395536\n",
      "54440 48 20 1 0.01734701812251187\n",
      "54440 48 7 2 1.591821629664581e-05\n",
      "54440 48 41 3 6.644635675484302e-06\n",
      "54440 48 2 1 0.001761886815621537\n",
      "54440 48 29 3 2.3003550422146748e-06\n",
      "54440 44 75 4 4.2794319478764985e-07\n",
      "54440 44 62 2 0.0011525551758707281\n",
      "54440 44 46 6 1.7788784307684382e-12\n",
      "54440 44 15 1 0.011990044942012305\n",
      "54440 44 17 1 0.013567253590158503\n",
      "54440 44 12 1 0.009614806460637369\n",
      "54440 44 26 3 1.2585944462399272e-06\n",
      "54440 44 20 5 4.180976164594905e-12\n",
      "54440 44 7 0 0.9943557844716577\n",
      "54440 44 41 9 2.1035038603966827e-20\n",
      "54440 44 2 0 0.9983841799135902\n",
      "54440 44 29 3 1.7648139094637948e-06\n",
      "54440 50 75 7 6.684045933191317e-13\n",
      "54440 50 62 5 3.2827710622633763e-09\n",
      "54440 50 46 4 9.911396406494315e-08\n",
      "54440 50 15 0 0.9863098358533339\n",
      "54440 50 17 3 4.897037683075057e-07\n",
      "54440 50 12 1 0.010912665841791154\n",
      "54440 50 26 1 0.023347805952276063\n",
      "54440 50 20 1 0.018057188482560174\n",
      "54440 50 7 0 0.9935882385531459\n",
      "54440 50 41 2 0.0006549459582196664\n",
      "54440 50 2 0 0.9981639420371131\n",
      "54440 50 29 5 6.191305653022359e-11\n",
      "54440 15 75 0 0.9795305415959927\n",
      "54440 15 62 0 0.9830503280697878\n",
      "54440 15 46 4 6.035481133074603e-10\n",
      "54440 15 15 1 0.004118133271700986\n",
      "54440 15 17 1 0.004664816853759313\n",
      "54440 15 12 1 0.003297050216909548\n",
      "54440 15 26 1 0.007117923945157222\n",
      "54440 15 20 1 0.005483785556097876\n",
      "54440 15 7 0 0.998072758557424\n",
      "54440 15 41 1 0.011181172496475357\n",
      "54440 15 2 0 0.9994490054652573\n",
      "54440 15 29 0 0.9920382585488021\n",
      "54440 24 75 1 0.03204530936940467\n",
      "54440 24 62 1 0.026636898282863\n",
      "54440 24 46 0 0.9799124308389167\n",
      "54440 24 15 2 1.945439649811784e-05\n",
      "54440 24 17 0 0.9925307903863618\n",
      "54440 24 12 0 0.9947220485924867\n",
      "54440 24 26 4 4.306118433662258e-10\n",
      "54440 24 20 2 3.513209832037853e-05\n",
      "54440 24 7 0 0.9969179425461425\n",
      "54440 24 41 5 7.895015033260657e-12\n",
      "54440 24 2 0 0.9991184816272867\n",
      "54440 24 29 1 0.012634299431424325\n",
      "54440 28 75 1 0.0371832380702507\n",
      "54440 28 62 6 6.263888652225615e-13\n",
      "54440 28 46 7 2.221026607837972e-16\n",
      "54440 28 15 1 0.007661512587046086\n",
      "54440 28 17 0 0.9912910386313482\n",
      "54440 28 12 0 0.9938448767659009\n",
      "54440 28 26 1 0.013207658624328779\n",
      "54440 28 20 0 0.9897617744885931\n",
      "54440 28 7 1 0.0035895929035511536\n",
      "54440 28 41 1 0.020672961651552777\n",
      "54440 28 2 0 0.9989715996896217\n",
      "54440 28 29 2 0.00010223897681375608\n",
      "54440 8 75 1 0.010916858459707985\n",
      "54440 8 62 0 0.990924705013959\n",
      "54440 8 46 0 0.9932597898332804\n",
      "54440 8 15 0 0.9977977215141165\n",
      "54440 8 17 0 0.9975044052651046\n",
      "54440 8 12 0 0.9982378373909924\n",
      "54440 8 26 0 0.9961854155863379\n",
      "54440 8 20 0 0.9970645723533486\n",
      "54440 8 7 0 0.9989717413334377\n",
      "54440 8 41 0 0.9939904905468823\n",
      "54440 8 2 0 0.9997061173525771\n",
      "54440 8 29 0 0.995746091618845\n",
      "54440 16 75 0 0.9781807062148312\n",
      "54440 16 62 3 7.766177645448972e-07\n",
      "54440 16 46 1 0.013352785548514852\n",
      "54440 16 15 1 0.004391545541135333\n",
      "54440 16 17 2 1.0970997837045327e-05\n",
      "54440 16 12 1 0.0035161427628806106\n",
      "54440 16 26 1 0.007588964632509382\n",
      "54440 16 20 0 0.9941373318073284\n",
      "54440 16 7 0 0.9979443890707931\n",
      "54440 16 41 1 0.011917818477455825\n",
      "54440 16 2 0 0.999412277895006\n",
      "54440 16 29 0 0.991509657547462\n"
     ]
    }
   ],
   "source": [
    "ctel_ofus_hyp=ogcomp(ctel_gbm,ofus_gbm,genefam,'Ctel','Ofus')"
   ]
  },
  {
   "cell_type": "code",
   "execution_count": 18,
   "metadata": {},
   "outputs": [
    {
     "name": "stdout",
     "output_type": "stream",
     "text": [
      "       cl1     cl2  no1  no2  nov            pv       rf\n",
      "0    Ctel2   Ofus2   66   75   10  2.597923e-18  109.980\n",
      "1    Ctel2   Ofus1   66   62    8  9.585708e-15  106.432\n",
      "2    Ctel2   Ofus4   66   46    2  1.422597e-03   35.863\n",
      "3    Ctel2  Ofus11   66   15    1  1.788349e-02   54.990\n",
      "4    Ctel2   Ofus3   66   17    3  1.138608e-06  145.561\n",
      "..     ...     ...  ...  ...  ...           ...      ...\n",
      "139  Ctel3   Ofus6   16   20    0  9.941373e-01    0.000\n",
      "140  Ctel3   Ofus7   16    7    0  9.979444e-01    0.000\n",
      "141  Ctel3  Ofus10   16   41    1  1.191782e-02   82.988\n",
      "142  Ctel3   Ofus8   16    2    0  9.994123e-01    0.000\n",
      "143  Ctel3   Ofus5   16   29    0  9.915097e-01    0.000\n",
      "\n",
      "[144 rows x 7 columns]\n"
     ]
    }
   ],
   "source": [
    "print(ctel_ofus_hyp)"
   ]
  },
  {
   "cell_type": "code",
   "execution_count": 19,
   "metadata": {},
   "outputs": [],
   "source": [
    "ctel_ofus_hyp.to_csv('ctel_ofus_phyper_TF.tsv',sep='\\t')"
   ]
  },
  {
   "cell_type": "code",
   "execution_count": null,
   "metadata": {},
   "outputs": [],
   "source": []
  }
 ],
 "metadata": {
  "kernelspec": {
   "display_name": "Python 3",
   "language": "python",
   "name": "python3"
  },
  "language_info": {
   "codemirror_mode": {
    "name": "ipython",
    "version": 3
   },
   "file_extension": ".py",
   "mimetype": "text/x-python",
   "name": "python",
   "nbconvert_exporter": "python",
   "pygments_lexer": "ipython3",
   "version": "3.8.13"
  }
 },
 "nbformat": 4,
 "nbformat_minor": 4
}
